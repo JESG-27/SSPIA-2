{
  "nbformat": 4,
  "nbformat_minor": 0,
  "metadata": {
    "colab": {
      "provenance": []
    },
    "kernelspec": {
      "name": "python3",
      "display_name": "Python 3"
    },
    "language_info": {
      "name": "python"
    }
  },
  "cells": [
    {
      "cell_type": "code",
      "execution_count": 1,
      "metadata": {
        "id": "A9Q9Ggwbns_u"
      },
      "outputs": [],
      "source": [
        "import numpy as np\n",
        "import pandas as pd\n",
        "from sklearn.model_selection import train_test_split\n",
        "from sklearn.neural_network import MLPClassifier\n",
        "from sklearn.metrics import confusion_matrix\n",
        "from sklearn.metrics import classification_report\n",
        "from sklearn.metrics import confusion_matrix\n",
        "from sklearn.metrics import ConfusionMatrixDisplay\n",
        "import matplotlib.pyplot as plt"
      ]
    },
    {
      "cell_type": "code",
      "source": [
        "# Read File\n",
        "file = 'breastCancer.csv'\n",
        "df = pd.read_csv(file)\n",
        "df.info()\n",
        "df.isnull().sum()"
      ],
      "metadata": {
        "id": "Yj2lObfAn8K_"
      },
      "execution_count": null,
      "outputs": []
    },
    {
      "cell_type": "code",
      "source": [
        "# Clean data\n",
        "df = df.dropna(how='all', axis='columns')\n",
        "df = df.drop(labels='id', axis='columns')\n",
        "df = df.replace(to_replace=['M', 'B'], value=['1', '0'])\n",
        "\n",
        "df.head()"
      ],
      "metadata": {
        "id": "3Ai2YvBKoAfq"
      },
      "execution_count": null,
      "outputs": []
    },
    {
      "cell_type": "code",
      "source": [
        "# Set data\n",
        "ax = df['diagnosis'].value_counts().plot(kind='bar')\n",
        "\n",
        "x = df.drop(['diagnosis'], axis=1)\n",
        "y = df['diagnosis'].values\n",
        "\n",
        "# Data split\n",
        "xtrain, xtest, ytrain, ytest, = train_test_split(x, y, test_size=0.3, random_state=45)"
      ],
      "metadata": {
        "colab": {
          "base_uri": "https://localhost:8080/",
          "height": 425
        },
        "id": "7s3Mpm-qoJ-D",
        "outputId": "2fe229d6-dedf-444a-fdaa-86420eef65dc"
      },
      "execution_count": 32,
      "outputs": [
        {
          "output_type": "display_data",
          "data": {
            "text/plain": [
              "<Figure size 640x480 with 1 Axes>"
            ],
            "image/png": "[encoded data removed]"
          },
          "metadata": {}
        }
      ]
    },
    {
      "cell_type": "code",
      "source": [
        "# Training - Multi Layer Perceptron\n",
        "model = MLPClassifier(alpha=1, max_iter=2000)\n",
        "model.fit(xtrain, ytrain)\n",
        "\n",
        "print(\"Train: \", {model.score(xtrain, ytrain)})\n",
        "print(\"Test: \", {model.score(xtest, ytest)})"
      ],
      "metadata": {
        "colab": {
          "base_uri": "https://localhost:8080/"
        },
        "id": "R9yZzSlwsDF8",
        "outputId": "253ed929-5cb4-4413-e640-b34d5015422f"
      },
      "execution_count": 33,
      "outputs": [
        {
          "output_type": "stream",
          "name": "stdout",
          "text": [
            "Train:  {0.9472361809045227}\n",
            "Test:  {0.9473684210526315}\n"
          ]
        }
      ]
    },
    {
      "cell_type": "code",
      "source": [
        "# Classification Report\n",
        "ytrainpred = model.predict(xtrain)\n",
        "ytestpred = model.predict(xtest)\n",
        "\n",
        "print(\"Classification Report: \\n\", classification_report(ytest, ytestpred))"
      ],
      "metadata": {
        "colab": {
          "base_uri": "https://localhost:8080/"
        },
        "id": "T9UWKmBpstlI",
        "outputId": "b8de0cf3-c1ac-49a0-8879-bac6284efb92"
      },
      "execution_count": 35,
      "outputs": [
        {
          "output_type": "stream",
          "name": "stdout",
          "text": [
            "Classification Report: \n",
            "               precision    recall  f1-score   support\n",
            "\n",
            "           0       0.93      0.99      0.96       110\n",
            "           1       0.98      0.87      0.92        61\n",
            "\n",
            "    accuracy                           0.95       171\n",
            "   macro avg       0.96      0.93      0.94       171\n",
            "weighted avg       0.95      0.95      0.95       171\n",
            "\n"
          ]
        }
      ]
    },
    {
      "cell_type": "code",
      "source": [
        "# Confusion Matrix\n",
        "class_names=[\"M\",\"B\"]\n",
        "cm = confusion_matrix(ytest, ytestpred)\n",
        "disp = ConfusionMatrixDisplay(confusion_matrix=cm, display_labels=class_names)\n",
        "disp.plot()"
      ],
      "metadata": {
        "colab": {
          "base_uri": "https://localhost:8080/",
          "height": 466
        },
        "id": "NUJ_xTndtjny",
        "outputId": "7cc7d87d-4f82-410e-b1e7-8cb72673af05"
      },
      "execution_count": 39,
      "outputs": [
        {
          "output_type": "execute_result",
          "data": {
            "text/plain": [
              "<sklearn.metrics._plot.confusion_matrix.ConfusionMatrixDisplay at 0x7d4669d49030>"
            ]
          },
          "metadata": {},
          "execution_count": 39
        },
        {
          "output_type": "display_data",
          "data": {
            "text/plain": [
              "<Figure size 640x480 with 2 Axes>"
            ],
            "image/png": "[encoded data removed]"
          },
          "metadata": {}
        }
      ]
    }
  ]
}